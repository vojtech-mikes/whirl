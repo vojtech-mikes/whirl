{
 "cells": [
  {
   "cell_type": "code",
   "execution_count": null,
   "id": "7355ba8b-5fd4-41e8-9531-d7a0477db734",
   "metadata": {},
   "outputs": [],
   "source": [
    "print(\"Hello World from silver\")"
   ]
  },
  {
   "cell_type": "code",
   "execution_count": null,
   "id": "1b26e827-2b46-4967-90dc-217bb218ace6",
   "metadata": {},
   "outputs": [],
   "source": [
    "with open(\"/tmp/hello_silver.txt\", \"w\") as f:\n",
    "    f.write(\"Hello World from Silver file!\")"
   ]
  }
 ],
 "metadata": {
  "kernelspec": {
   "display_name": "Python 3 (ipykernel)",
   "language": "python",
   "name": "python3"
  },
  "language_info": {
   "codemirror_mode": {
    "name": "ipython",
    "version": 3
   },
   "file_extension": ".py",
   "mimetype": "text/x-python",
   "name": "python",
   "nbconvert_exporter": "python",
   "pygments_lexer": "ipython3",
   "version": "3.13.0"
  }
 },
 "nbformat": 4,
 "nbformat_minor": 5
}
