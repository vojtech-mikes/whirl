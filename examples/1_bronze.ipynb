{
 "cells": [
  {
   "cell_type": "code",
   "execution_count": 1,
   "id": "7355ba8b-5fd4-41e8-9531-d7a0477db734",
   "metadata": {},
   "outputs": [
    {
     "name": "stdout",
     "output_type": "stream",
     "text": [
      "Hello World from bronze\n"
     ]
    }
   ],
   "source": [
    "print(\"Hello World from bronze\")"
   ]
  },
  {
   "cell_type": "code",
   "execution_count": 2,
   "id": "27e8b588-8a82-409d-bec4-208840c2a107",
   "metadata": {},
   "outputs": [],
   "source": [
    "with open(\"/tmp/hello_bronze.txt\", \"w\") as f:\n",
    "    f.write(\"Hello World from Bronze file!\")"
   ]
  }
 ],
 "metadata": {
  "kernelspec": {
   "display_name": "Python 3 (ipykernel)",
   "language": "python",
   "name": "python3"
  },
  "language_info": {
   "codemirror_mode": {
    "name": "ipython",
    "version": 3
   },
   "file_extension": ".py",
   "mimetype": "text/x-python",
   "name": "python",
   "nbconvert_exporter": "python",
   "pygments_lexer": "ipython3",
   "version": "3.13.0"
  }
 },
 "nbformat": 4,
 "nbformat_minor": 5
}
